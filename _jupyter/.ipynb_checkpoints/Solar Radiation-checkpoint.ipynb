{
 "cells": [
  {
   "cell_type": "code",
   "execution_count": 43,
   "metadata": {},
   "outputs": [],
   "source": [
    "import math"
   ]
  },
  {
   "cell_type": "markdown",
   "metadata": {},
   "source": [
    "# Calculating Solar Radiation in Python"
   ]
  },
  {
   "cell_type": "markdown",
   "metadata": {},
   "source": [
    "How do we calculate ... intro shit"
   ]
  },
  {
   "cell_type": "markdown",
   "metadata": {},
   "source": [
    "### The Solar Constant"
   ]
  },
  {
   "cell_type": "markdown",
   "metadata": {},
   "source": [
    "The Solar Constant $(S_0)$ is the power per unit area that reaches the earth's surface from the Sun. To calculate $S_0$, we start with the total power output of the Sun radiating outwardly to space, known as the *solar luminosity* $(L_☉)$, which is equal to $3.9\\times10^{26} W$."
   ]
  },
  {
   "cell_type": "code",
   "execution_count": 39,
   "metadata": {},
   "outputs": [],
   "source": [
    "SOLAR_LUMINOSITY = 3.9*(10**26)"
   ]
  },
  {
   "attachments": {},
   "cell_type": "markdown",
   "metadata": {},
   "source": [
    "For this calculation, it is useful to imagine a giant sphere surrounding the Sun, which is the perfect size so that the Earth is on its surface:"
   ]
  },
  {
   "cell_type": "markdown",
   "metadata": {},
   "source": [
    "<div style=\"text-align:center\"><img src=\"../assets/solar-irradiance.PNG \" width=\"350\"></div>"
   ]
  },
  {
   "cell_type": "markdown",
   "metadata": {},
   "source": [
    "We assume that the solar luminosity radiates outwards equally, so $S_0$ can be calculated by dividing the solar luminosity by the surface area (SA) of the imaginary sphere:\n",
    "$$ S_0 = \\frac{L_☉}{SA} $$"
   ]
  },
  {
   "attachments": {},
   "cell_type": "markdown",
   "metadata": {},
   "source": [
    "The radius of the imaginary sphere is equal to the radius of the Sun plus 1AU (the average distance from the Earth to the Sun\\*):\n",
    "$$R = 1.496\\times10^{11}m + 6.9551\\times10^8m = 1.5029551\\times10^{11}m$$\n",
    "\\*<span style=\"font-size:10px;\">Note: we are using the average distance from the Earth to the Sun. Later, we will calculate this value depending on day of the year.<span/>"
   ]
  },
  {
   "cell_type": "code",
   "execution_count": 21,
   "metadata": {},
   "outputs": [],
   "source": [
    "RADIUS = 1.496*(10**11) + 6.9551*(10**8)"
   ]
  },
  {
   "cell_type": "markdown",
   "metadata": {},
   "source": [
    "The surface area of the sphere is:\n",
    "$$ SA=4πR^2=2.8385848265004834\\times10^{23} m^2 $$"
   ]
  },
  {
   "cell_type": "code",
   "execution_count": 42,
   "metadata": {},
   "outputs": [],
   "source": [
    "SURFACE_AREA = 4*math.pi*RADIUS**2"
   ]
  },
  {
   "cell_type": "markdown",
   "metadata": {},
   "source": [
    "$$ S_0 = \\frac{L_☉}{SA} = \\frac{3.827\\times10^{26} W}{2.8385848265004834\\times10^{23} m^2} \\approx 1374 \\frac{W}{m^2} $$"
   ]
  },
  {
   "cell_type": "code",
   "execution_count": 41,
   "metadata": {},
   "outputs": [],
   "source": [
    "SOLAR_CONSTANT = SOLAR_LUMINOSITY/SURFACE_AREA"
   ]
  },
  {
   "cell_type": "markdown",
   "metadata": {},
   "source": [
    "The solar constant is the amount of incoming radiation per unit area that would be incident on a plane perpendicular to the rays, at a distance of 1AU. In other words, it is the power reaching the point where the imaginary sphere and earth overlap.  We need to add several things: distance, angle, atmosphere, clouds"
   ]
  }
 ],
 "metadata": {
  "kernelspec": {
   "display_name": "Python 3",
   "language": "python",
   "name": "python3"
  },
  "language_info": {
   "codemirror_mode": {
    "name": "ipython",
    "version": 3
   },
   "file_extension": ".py",
   "mimetype": "text/x-python",
   "name": "python",
   "nbconvert_exporter": "python",
   "pygments_lexer": "ipython3",
   "version": "3.6.8"
  }
 },
 "nbformat": 4,
 "nbformat_minor": 2
}
