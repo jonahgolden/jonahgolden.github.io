{
 "cells": [
  {
   "cell_type": "markdown",
   "metadata": {},
   "source": [
    "# Datetime SZA"
   ]
  },
  {
   "cell_type": "code",
   "execution_count": null,
   "metadata": {},
   "outputs": [],
   "source": [
    "import numpy as np  # numerics & matrix algebra\n",
    "from datetime import datetime  # dates and times\n",
    "import time  # for measuring time\n",
    "\n",
    "\n",
    "\n",
    "def szafunc(day, dLongitude, dLatitude):\n",
    "    \"\"\"\n",
    "        inputs: day: datetime object\n",
    "                dLongitude: longitudes (scalar or Numpy array)\n",
    "                dLatitude: latitudes (scalar or Numpy array)\n",
    "        output: solar zenith angles\n",
    "    \"\"\"\n",
    "    dHours, dMinutes, dSeconds = day.hour, day.minute, day.second\n",
    "    iYear, iMonth, iDay = day.year, day.month, day.day\n",
    "\n",
    "    dEarthMeanRadius = 6371.01\n",
    "    dAstronomicalUnit = 149597890\n",
    "\n",
    "    ###################################################################\n",
    "    # Calculate difference in days between the current Julian Day\n",
    "    # and JD 2451545.0, which is noon 1 January 2000 Universal Time\n",
    "    ###################################################################\n",
    "    # Calculate time of the day in UT decimal hours\n",
    "    dDecimalHours = dHours + (dMinutes + dSeconds / 60.) / 60.\n",
    "    # Calculate current Julian Day\n",
    "    liAux1 = int((iMonth - 14.) / 12.)\n",
    "    liAux2 = int((1461. * (iYear + 4800. + liAux1)) / 4.) + int((367. * (iMonth - 2. - 12. * liAux1)) / 12.) - int((3. * int((iYear + 4900. + liAux1) / 100.)) / 4.) + iDay - 32075.\n",
    "    dJulianDate = liAux2 - 0.5 + dDecimalHours / 24.\n",
    "    # Calculate difference between current Julian Day and JD 2451545.0\n",
    "    dElapsedJulianDays = dJulianDate - 2451545.0\n",
    "\n",
    "    ###################################################################\n",
    "    # Calculate ecliptic coordinates (ecliptic longitude and obliquity of the\n",
    "    # ecliptic in radians but without limiting the angle to be less than 2*Pi\n",
    "    # (i.e., the result may be greater than 2*Pi)\n",
    "    ###################################################################\n",
    "    dOmega = 2.1429 - 0.0010394594 * dElapsedJulianDays\n",
    "    dMeanLongitude = 4.8950630 + 0.017202791698 * dElapsedJulianDays  # Radians\n",
    "    dMeanAnomaly = 6.2400600 + 0.0172019699 * dElapsedJulianDays\n",
    "    dEclipticLongitude = dMeanLongitude + 0.03341607 * np.sin(dMeanAnomaly) + 0.00034894 * np.sin(2. * dMeanAnomaly) - 0.0001134 - 0.0000203 * np.sin(dOmega)\n",
    "    dEclipticObliquity = 0.4090928 - 6.2140e-9 * dElapsedJulianDays + 0.0000396 * np.cos(dOmega)\n",
    "\n",
    "    ###################################################################\n",
    "    # Calculate celestial coordinates ( right ascension and declination ) in radians\n",
    "    # but without limiting the angle to be less than 2*Pi (i.e., the result may be\n",
    "    # greater than 2*Pi)\n",
    "    ###################################################################\n",
    "    dSin_EclipticLongitude = np.sin(dEclipticLongitude)\n",
    "    dY = np.cos(dEclipticObliquity) * dSin_EclipticLongitude\n",
    "    dX = np.cos(dEclipticLongitude)\n",
    "    dRightAscension = np.arctan2(dY, dX)\n",
    "    if dRightAscension < 0.0:\n",
    "        dRightAscension = dRightAscension + 2.0 * np.pi\n",
    "    dDeclination = np.arcsin(np.sin(dEclipticObliquity) * dSin_EclipticLongitude)\n",
    "\n",
    "    ###################################################################\n",
    "    # Calculate local coordinates ( azimuth and zenith angle ) in degrees\n",
    "    ###################################################################\n",
    "    dGreenwichMeanSiderealTime = 6.6974243242 + 0.0657098283 * dElapsedJulianDays + dDecimalHours\n",
    "    dLocalMeanSiderealTime = (dGreenwichMeanSiderealTime * 15. + dLongitude) * (np.pi / 180.)\n",
    "    dHourAngle = dLocalMeanSiderealTime - dRightAscension\n",
    "    dLatitudeInRadians = dLatitude * (np.pi / 180.)\n",
    "    dCos_Latitude = np.cos(dLatitudeInRadians)\n",
    "    dSin_Latitude = np.sin(dLatitudeInRadians)\n",
    "    dCos_HourAngle = np.cos(dHourAngle)\n",
    "    dZenithAngle = (np.arccos(dCos_Latitude * dCos_HourAngle * np.cos(dDeclination) + np.sin(dDeclination) * dSin_Latitude))\n",
    "    return dZenithAngle\n",
    "\n",
    "# Flux Density\n",
    "def flux_dens(date, long, lat):\n",
    "    '''Returns solar flux density in watts/m^2 based on day, hour, latitude, and optional atmospheric loss.'''\n",
    "    cos_sz = math.cos(szafunc(date, long, lat))\n",
    "    if cos_sz < 0:  # cos_sz is negative shen the sun is below the horizon.\n",
    "        return 0\n",
    "    distance_factor = earth_sun_distance_ratio(day)\n",
    "    return SOLAR_CONSTANT*distance_factor*cos_sz*(transmittance())\n",
    "\n",
    "flux_dens(datetime.now(), -90, 0)"
   ]
  },
  {
   "cell_type": "markdown",
   "metadata": {},
   "source": [
    "# Distance Method 2\n",
    "##### Method 2: Calculate the $\\left(\\frac{\\overline{d}}{d}\\right)^2$istance Ratio with a Fourier Series\n",
    "Expansion of a Fourier for the squared ratio of the mean Earth-Sun distance to the actual distance has been derived by Spencer (1971):\n",
    "$$\\left(\\frac{\\overline{d}}{d}\\right)^2 = \\sum_{n=0}^{2} a_n\\cos(n\\theta_d)+b_n\\sin(n\\theta_d)$$\n",
    "where\n",
    "$$\\theta_d=\\frac{2\\pi d_n}{365}$$\n",
    "and $d_n=$ the Day of the Year (January 1 is 0, December 31 is 364)."
   ]
  },
  {
   "cell_type": "code",
   "execution_count": null,
   "metadata": {},
   "outputs": [],
   "source": [
    "AU = 149597870700.0\n",
    "\n",
    "# Fourier coefficients (GPC Page 348 http://danida.vnu.edu.vn/cpis/files/Books/Global%20Physical%20Climatology.pdf)\n",
    "FOURIER_COFS = {\"an\": [1.000110, 0.034221, 0.000719],\n",
    "                \"bn\": [0, 0.001280, 0.000077]}\n",
    "\n",
    "def earth_sun_distance_fourier(day_of_year):\n",
    "    # Calculate Theta D\n",
    "    thetaD = (2*np.pi*day_of_year)/365\n",
    "    \n",
    "    distance = 0\n",
    "    for n in range(3):\n",
    "        distance += FOURIER_COFS[\"an\"][n] * math.cos(n*thetaD)\n",
    "        distance += FOURIER_COFS[\"bn\"][n] * math.sin(n*thetaD)\n",
    "        \n",
    "    return math.sqrt((AU**2)/distance)"
   ]
  },
  {
   "cell_type": "code",
   "execution_count": null,
   "metadata": {
    "scrolled": true
   },
   "outputs": [],
   "source": [
    "import matplotlib.pyplot as plt\n",
    "import numpy as np\n",
    "NUMBER_DAYS = 365\n",
    "AU = 149597870700.0\n",
    "\n",
    "# Earth-Sun distance vector\n",
    "days = np.array(range(NUMBER_DAYS))\n",
    "distance_kepler = list(map(earth_sun_distance_kepler, days))\n",
    "distance_fourier = list(map(earth_sun_distance_fourier, days))\n",
    "\n",
    "# AU distance vector\n",
    "AU = 149597870700.0\n",
    "au_distance = [AU]*NUMBER_DAYS\n",
    "\n",
    "# Create the plot\n",
    "plt.plot(days, au_distance, label = '1AU')\n",
    "plt.plot(days, distance_kepler, label = 'Elliptical Estimation')\n",
    "plt.plot(days, distance_fourier, label = 'Fourier Estimation')\n",
    "\n",
    "plt.xlabel('Day of Year', fontsize=12)\n",
    "plt.ylabel('Earth-Sun Distance $(m\\cdot10^{11})$',\n",
    "           rotation=0, wrap=True, fontsize=12, labelpad=60)\n",
    "plt.legend(fontsize=12)\n",
    "\n",
    "plt.show()"
   ]
  },
  {
   "cell_type": "markdown",
   "metadata": {},
   "source": []
  },
  {
   "cell_type": "markdown",
   "metadata": {},
   "source": [
    "## SkyField - why is it so off???"
   ]
  },
  {
   "cell_type": "code",
   "execution_count": null,
   "metadata": {},
   "outputs": [],
   "source": [
    "from datetime import timedelta, date\n",
    "from skyfield.api import load\n",
    "\n",
    "AU = 149597870700.0\n",
    "# SkyField\n",
    "planets = load('de421.bsp')\n",
    "earth = planets['earth']\n",
    "ts = load.timescale()\n",
    "\n",
    "def earth_sun_distance_range(start_date, end_date):\n",
    "    distances = {\"date\": [], \"dist\": []}\n",
    "    for day_after_start in range(int((end_date - start_date).days)):\n",
    "        date = start_date + timedelta(day_after_start)\n",
    "        time = ts.utc(date)\n",
    "        earth_position = earth.at(time)\n",
    "        earth_to_sun = earth_position.radec()[2]\n",
    "        distances[\"date\"].append(date)\n",
    "        distances[\"dist\"].append(earth_to_sun)\n",
    "    return distances\n",
    "\n",
    "def earth_sun_distance_skyfield(date):\n",
    "    time = ts.utc(date)\n",
    "    earth_position = earth.at(time)\n",
    "    earth_to_sun = earth_position.radec()[2]\n",
    "    return earth_to_sun.au*AU"
   ]
  },
  {
   "cell_type": "code",
   "execution_count": null,
   "metadata": {},
   "outputs": [],
   "source": [
    "import matplotlib.pyplot as plt\n",
    "import numpy as np\n",
    "NUMBER_DAYS = 365\n",
    "\n",
    "from datetime import timedelta, date\n",
    "start_date = date(2019, 1, 1)\n",
    "# Earth-Sun distance vector\n",
    "days = np.array(range(NUMBER_DAYS))\n",
    "distance = list(map(earth_sun_distance, days))\n",
    "distance_skyfield = [earth_sun_distance_skyfield(start_date + timedelta(n)) for n in range(NUMBER_DAYS)]\n",
    "\n",
    "# AU distance vector\n",
    "AU = 149597870700.0\n",
    "au_distance = [AU]*NUMBER_DAYS\n",
    "\n",
    "# Create the plot\n",
    "plt.plot(days, au_distance, label = '1AU')\n",
    "plt.plot(days, distance, label = 'Elliptical Estimation')\n",
    "plt.plot(days, distance_skyfield, label = 'Skyfield Distance')\n",
    "\n",
    "plt.xlabel('Day of Year', fontsize=12)\n",
    "plt.ylabel('Earth-Sun Distance $(m\\cdot10^{11})$',\n",
    "           rotation=0, wrap=True, fontsize=12, labelpad=60)\n",
    "plt.legend(fontsize=12)\n",
    "\n",
    "plt.show()"
   ]
  },
  {
   "cell_type": "code",
   "execution_count": null,
   "metadata": {},
   "outputs": [],
   "source": []
  },
  {
   "cell_type": "markdown",
   "metadata": {},
   "source": [
    "$$L_☉\\approx 3.86\\times10^{26}W$$"
   ]
  },
  {
   "cell_type": "markdown",
   "metadata": {},
   "source": [
    "### Generic Equation for Flux Density: calculating the distance from the Earth to the Sun for any time of year\n",
    "We know that the Earth's orbit is elliptical, so the distance from the Earth to the Sun is not constant. Therefore, to find the Flux Density $(F)$ at any given time, we need to determine the distance from the Earth to the Sun at that moment.\n",
    "\n",
    "For a generic equation for Flux Density $(F)$, we will define the variable $d$ to represent the distance from the Earth to the center of the Sun (the radius of the imaginary sphere at any given time). Thus, $\\overline{d}$ represents the mean value of the radius of the imaginary sphere, (calculated as the radius of the sun plus 1AU), and we have:\n",
    "$$S_0 = \\frac{L_☉}{4\\pi \\overline{d}^2}$$\n",
    "\n",
    "$$F = \\frac{L_☉}{4\\pi d^2} = S_0\\left(\\frac{\\overline{d}}{d}\\right)^2$$"
   ]
  },
  {
   "cell_type": "markdown",
   "metadata": {},
   "source": [
    "It turns out that calculating and predicting $d$ is not an easy task.  "
   ]
  },
  {
   "cell_type": "code",
   "execution_count": null,
   "metadata": {},
   "outputs": [],
   "source": []
  },
  {
   "cell_type": "markdown",
   "metadata": {},
   "source": [
    "v = the orbital velocity vector, which depends on r, the orbital position vector. The only way to propagate the Cartesian elements forward in time is by numerical integration...https://space.stackexchange.com/questions/8911/determining-orbital-position-at-a-future-point-in-time\n",
    "\n",
    "$$d(v) = \\frac{a_0(1-e^2)}{1+e\\cos(v)}$$\n"
   ]
  },
  {
   "cell_type": "code",
   "execution_count": null,
   "metadata": {},
   "outputs": [],
   "source": [
    "\n",
    "P_day = 3  # Day of year of Periheleon\n",
    "a0 = 1.496e11+10  # Semi-major Axis\n",
    "e = 0.0167  # Eccentricity\n",
    "v = 2*math.pi*n/365.256  # True anomaly\n",
    "D_year = 365.256\n",
    "\n",
    "def EarthToSun2(day_of_year):\n",
    "    v = math.acos((e*r)/(abs(e)*abs(r)))\n",
    "    if r*v < 0:\n",
    "        v = 2*math.pi - v\n",
    "    return (a0*(1-e**2))/(1+e*math.cos(v))"
   ]
  },
  {
   "cell_type": "code",
   "execution_count": null,
   "metadata": {},
   "outputs": [],
   "source": []
  },
  {
   "cell_type": "code",
   "execution_count": null,
   "metadata": {},
   "outputs": [],
   "source": []
  },
  {
   "cell_type": "code",
   "execution_count": null,
   "metadata": {},
   "outputs": [],
   "source": []
  },
  {
   "cell_type": "code",
   "execution_count": null,
   "metadata": {},
   "outputs": [],
   "source": []
  },
  {
   "cell_type": "code",
   "execution_count": null,
   "metadata": {},
   "outputs": [],
   "source": [
    "from astropy.constants import L_sun, R_sun, au\n",
    "print(R_sun)\n",
    "print(au)\n",
    "R_SPHERE = R_sun + au\n",
    "SA_SPHERE = 4*math.pi*R_SPHERE**2\n",
    "S0 = 1361\n",
    "L_S = S0*SA_SPHERE\n",
    "print(L_S)\n",
    "print(L_sun)\n",
    "S_constant = L_sun/SA_SPHERE\n",
    "print(S_constant)"
   ]
  },
  {
   "cell_type": "markdown",
   "metadata": {},
   "source": [
    "As a part of this other post, this post will walk through the necessary calculations for making SI predictions for anywhere on Earth at any given time. \n",
    "\n",
    "There are four measures of SI that are important for our purposes:\n",
    "1. **Total Solar Irradiance** (TSI) is measured perpendicular to the incoming sunlight on the Earth's upper atmosphere.\n",
    "2. **Direct Normal Irradiance** (DNI) excludes radiation that is scattered by the atmosphere, measured perpendicular to the incoming sunlight at the Earth's surface.\n",
    "3. **Diffuse Horizontal Irradiance** (DHI) is the radiation that is scattered by the atmosphere, measured horizontally at the Earth's surface.\n",
    "4. **Global Horizontal Irradiance** (GHI) is the total irradiance from the sun (DNI and DHI), measured horizontally at the Earth's surface.\n",
    "\n",
    "My goal here is to walk through the calculations necessary for calculating GHI based on the Time of Year, Time of Day, and Location on Earth. "
   ]
  },
  {
   "cell_type": "code",
   "execution_count": null,
   "metadata": {},
   "outputs": [],
   "source": []
  }
 ],
 "metadata": {
  "kernelspec": {
   "display_name": "Python 3",
   "language": "python",
   "name": "python3"
  },
  "language_info": {
   "codemirror_mode": {
    "name": "ipython",
    "version": 3
   },
   "file_extension": ".py",
   "mimetype": "text/x-python",
   "name": "python",
   "nbconvert_exporter": "python",
   "pygments_lexer": "ipython3",
   "version": "3.6.8"
  }
 },
 "nbformat": 4,
 "nbformat_minor": 2
}
