{
 "cells": [
  {
   "cell_type": "markdown",
   "metadata": {},
   "source": [
    "This post will walk through the code and associated math for generating energy predictions for solar panel installations anywhere in the world, including an average power output graph.  For the final script go here, for the jupyter notebook, go here."
   ]
  },
  {
   "cell_type": "markdown",
   "metadata": {},
   "source": [
    "## The Power and Energy Equations\n",
    "The difference between power and energy: \n",
    "First, we will write a function to calculate the expected power generation at any point in time. Then we will use this function to calculate the expected energy output over a given period of time."
   ]
  },
  {
   "cell_type": "markdown",
   "metadata": {},
   "source": [
    "### Power Calculation, No Cloud Cover\n",
    "How much electrical *__power__* can we expect the panels to generate at any given moment, assuming no clouds or shade obstructions? We will write a function to calculate power based on the following equation:\n",
    "\n",
    "$P = A \\times E \\times SR \\times PR$\n",
    "* **P** = Power $(W)$: the predicted power output of the array.\n",
    "* **A** = Area of panels $(m^2)$\n",
    "* **E** = Efficiency of the panels (Typically between 0.15 and 0.20)\n",
    "* **SR** = Solar Radiation $(\\frac{W}{m^2})$: power per area that reaches the panels.\n",
    "* **PR** = Performance Ratio (Typically between 0.5 and 0.9, default = 0.75), which includes all other losses."
   ]
  },
  {
   "cell_type": "markdown",
   "metadata": {},
   "source": [
    "Both the **Area** and **Efficiency** variables are determined by the specific array, so they will be inputs to our power calculation function.\n",
    "\n",
    "The **Performance Ratio** variable is a constant that accounts for all other system losses (shading, snow, temperature, wiring, connections, etc.). CALCULATE BASED ON (pvwatts nrel), JUST USE 75%.\n",
    "\n",
    "The **Solar Radiation** variable is a function of location and time, so we will calculate SR using a helper function. \\*\\*Remember, we are still assuming clear skys."
   ]
  },
  {
   "cell_type": "markdown",
   "metadata": {},
   "source": [
    "##### SR Helper Function\n",
    "Calculating Solar Radiation is an interesting endeavour, but not necessary for this exercise, so skip to (link) Power Function if the math is not for you."
   ]
  },
  {
   "cell_type": "code",
   "execution_count": null,
   "metadata": {},
   "outputs": [],
   "source": []
  },
  {
   "attachments": {},
   "cell_type": "markdown",
   "metadata": {},
   "source": []
  },
  {
   "cell_type": "markdown",
   "metadata": {},
   "source": [
    "### Energy Calculation\n",
    "How much total *__energy__* can we expect the panels to generate over a given period of time?\n",
    "\n",
    "$E = P \\times T$"
   ]
  },
  {
   "attachments": {},
   "cell_type": "markdown",
   "metadata": {},
   "source": [
    "* **S** = Solar Irradiance $(\\frac{W}{m^2})$, the power per area received from the sun.\n",
    "\n",
    "The sun emits a fairly consistent amount of power outwards in all directions.  The amount of power it emits is called solar luminosity (abbreviated as L0 ) and is equal to 3.9×〖10〗^26 watts.  Solar luminosity is emitted in all directions, and for the purposed of this project, it is necessary to determine the power per area that is transmitted from the sun to the Earth.  First, it is useful to picture a giant sphere that surrounds the sun.  This imaginary sphere is the perfect size so that Earth is on its surface.  If we divide the solar luminosity by the surface area of this sphere (in square meters), then we will be able to know the power per square meter that the sun gives to Earth.  The radius of this sphere is equal to the distance of Earth from the sun (1.5×〖10〗^11 m) plus the radius of the sun (6.96×〖10〗^8 m).  Therefore, the radius of the imaginary sphere is 1.50696×〖10〗^11 m.  Surface area (SA) is equal to 4πr^2, so:"
   ]
  },
  {
   "cell_type": "markdown",
   "metadata": {},
   "source": [
    "$$ SA=4πr^2=4π (1.50696 *10^{11} )^2=2.853732844*10^{23} m^2 $$"
   ]
  },
  {
   "cell_type": "markdown",
   "metadata": {},
   "source": [
    "### Quest Installation Specs:\n",
    "#### Panels\n",
    "Number of panels: 16\n",
    "Efficiency: 18.7%, at least 89.6% of initial performance after 25 years\n",
    "Dimensions: 1016mm by 1686 mm\n",
    "Position: 3 , 8\n",
    "UID: 503000006535-1\n",
    "Orientation: vertical\n",
    "Module name: LG NeON\n",
    "Module company: LG\n",
    "Module model: NeON 320\n",
    "Module type: MONO\n",
    "STC power: 320\n",
    "\n"
   ]
  }
 ],
 "metadata": {
  "kernelspec": {
   "display_name": "Python 3",
   "language": "python",
   "name": "python3"
  },
  "language_info": {
   "codemirror_mode": {
    "name": "ipython",
    "version": 3
   },
   "file_extension": ".py",
   "mimetype": "text/x-python",
   "name": "python",
   "nbconvert_exporter": "python",
   "pygments_lexer": "ipython3",
   "version": "3.6.8"
  }
 },
 "nbformat": 4,
 "nbformat_minor": 2
}
